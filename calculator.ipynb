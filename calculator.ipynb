{
 "cells": [
  {
   "cell_type": "code",
   "execution_count": 1,
   "metadata": {},
   "outputs": [
    {
     "name": "stdout",
     "output_type": "stream",
     "text": [
      "\n",
      "Please type  math operation you would like to complete:\n",
      "+ for addition\n",
      "- for subtraction\n",
      "* for multiplication\n",
      "/ for division\n",
      "*\n",
      "Enter your first number: 67\n",
      "Enter your second number: 98\n",
      "67 * 98 = \n",
      "6566\n"
     ]
    }
   ],
   "source": [
    "operation = input('''\n",
    "Please type  math operation you would like to complete:\n",
    "+ for addition\n",
    "- for subtraction\n",
    "* for multiplication\n",
    "/ for division\n",
    "''')\n",
    "\n",
    "number_1 = int(input('Enter your first number: '))\n",
    "number_2 = int(input('Enter your second number: '))\n",
    "\n",
    "if operation == '+':\n",
    "    print('{} + {} = '.format(number_1, number_2))\n",
    "    print(number_1 + number_2)\n",
    "\n",
    "elif operation == '-':\n",
    "    print('{} - {} = '.format(number_1, number_2))\n",
    "    print(number_1 - number_2)\n",
    "\n",
    "elif operation == '*':\n",
    "    print('{} * {} = '.format(number_1, number_2))\n",
    "    print(number_1 * number_2)\n",
    "\n",
    "elif operation == '/':\n",
    "    print('{} / {} = '.format(number_1, number_2))\n",
    "    print(number_1 / number_2)\n",
    "\n",
    "else:\n",
    "    print('You have not typed a valid operator, please run the program again.')\n",
    "    "
   ]
  },
  {
   "cell_type": "code",
   "execution_count": 2,
   "metadata": {},
   "outputs": [
    {
     "name": "stdout",
     "output_type": "stream",
     "text": [
      "Enter Marks in English :67\n",
      "Enter Marks in Maths:60\n",
      "Enter Marks in Physics:89\n",
      "Enter Marks in Chemistry:78\n",
      "Enter Marks in Computer Science:67\n",
      "Congratulations ! Grade:B, and your percentage is  72.2\n"
     ]
    }
   ],
   "source": [
    "a=float(input(\"Enter Marks in English :\"))\n",
    "b=float(input(\"Enter Marks in Maths:\"))\n",
    "c=float(input(\"Enter Marks in Physics:\"))\n",
    "d=float(input(\"Enter Marks in Chemistry:\"))\n",
    "e=float(input(\"Enter Marks in Computer Science:\"))\n",
    "avg=((a+b+c+d+e)/500)*100\n",
    "if(avg>=80):\n",
    "    \n",
    "\tprint(\"Congratulations ! Grade:A, and your percentage is \", avg)\n",
    "elif(avg>=60 and avg<80):\n",
    "\tprint(\"Congratulations ! Grade:B, and your percentage is \", avg )\n",
    "elif (avg>=40 and avg<60):\n",
    "\tprint(\"Congratulations ! Grade:C, and your percentage is \", avg)\n",
    "elif (avg<40):\n",
    "\tprint( \"You are fail\")"
   ]
  },
  {
   "cell_type": "code",
   "execution_count": null,
   "metadata": {},
   "outputs": [],
   "source": []
  }
 ],
 "metadata": {
  "kernelspec": {
   "display_name": "Python 3",
   "language": "python",
   "name": "python3"
  },
  "language_info": {
   "codemirror_mode": {
    "name": "ipython",
    "version": 3
   },
   "file_extension": ".py",
   "mimetype": "text/x-python",
   "name": "python",
   "nbconvert_exporter": "python",
   "pygments_lexer": "ipython3",
   "version": "3.7.6"
  }
 },
 "nbformat": 4,
 "nbformat_minor": 4
}
